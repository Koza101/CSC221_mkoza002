{
  "cells": [
    {
      "cell_type": "markdown",
      "metadata": {
        "id": "view-in-github",
        "colab_type": "text"
      },
      "source": [
        "<a href=\"https://colab.research.google.com/github/Koza101/CSC221_mkoza002/blob/main/Assignment8.ipynb\" target=\"_parent\"><img src=\"https://colab.research.google.com/assets/colab-badge.svg\" alt=\"Open In Colab\"/></a>"
      ]
    },
    {
      "cell_type": "code",
      "execution_count": null,
      "metadata": {
        "id": "hr9kDNFzDsWz"
      },
      "outputs": [],
      "source": [
        "# TIY 8-2\n",
        "def favorite_book(title):\n",
        "    print(f\"One of my favorite books is {title.title()}.\")\n",
        "\n",
        "favorite_book(\"The subtle art of not giving a fuck\")\n"
      ]
    },
    {
      "cell_type": "code",
      "execution_count": null,
      "metadata": {
        "id": "YXhyxPjVDsW1",
        "outputId": "4d34dcc6-9fdb-43cf-95cf-ee19bcec6a34"
      },
      "outputs": [
        {
          "name": "stdout",
          "output_type": "stream",
          "text": [
            "The shirt is size: Large\n",
            "The text on the shirt is: Howdy\n",
            "\n",
            "The shirt is size: Large\n",
            "The text on the shirt is: Howdy\n",
            "\n"
          ]
        }
      ],
      "source": [
        "# TIY 8-3\n",
        "\n",
        "def make_shirt(size, text):\n",
        "    '''Return the size and text on a T-shirt'''\n",
        "    print(f\"The shirt is size: {size}\\nThe text on the shirt is: {text}\\n\")\n",
        "\n",
        "make_shirt(\"Large\", \"Howdy\")\n",
        "\n",
        "make_shirt(size=\"Large\", text=\"Howdy\")"
      ]
    },
    {
      "cell_type": "code",
      "execution_count": null,
      "metadata": {
        "id": "BHaYj6_-DsW2",
        "outputId": "4d220f61-a1c2-46de-8125-b84c164b93b2"
      },
      "outputs": [
        {
          "name": "stdout",
          "output_type": "stream",
          "text": [
            "The shirt is size: Large\n",
            "The text on the shirt is: I Love Python\n",
            "\n",
            "The shirt is size: Medium\n",
            "The text on the shirt is: I Love Python\n",
            "\n",
            "The shirt is size: Large Tall\n",
            "The text on the shirt is: Tall T's are Cooler\n",
            "\n"
          ]
        }
      ],
      "source": [
        "# TIY 8-4\n",
        "\n",
        "def make_shirt(size=\"Large\", text=\"I Love Python\"):\n",
        "    '''Return the size and text on a T-shirt'''\n",
        "    print(f\"The shirt is size: {size}\\nThe text on the shirt is: {text}\\n\")\n",
        "\n",
        "make_shirt()\n",
        "make_shirt(size=\"Medium\")\n",
        "make_shirt(size=\"Large Tall\", text=\"Tall T's are Cooler\")\n"
      ]
    },
    {
      "cell_type": "code",
      "execution_count": null,
      "metadata": {
        "id": "QuhWKDIuDsW2",
        "outputId": "e17dfd82-ce4b-4439-ee0c-9e5268276768"
      },
      "outputs": [
        {
          "name": "stdout",
          "output_type": "stream",
          "text": [
            "95\n",
            "2184\n",
            "[1, 42, 52]\n",
            "165\n",
            "147420\n",
            "[42, 45, 78]\n",
            "822\n",
            "2658432\n",
            "[42, 92, 688]\n",
            "32240\n",
            "60769170\n",
            "[42, 45, 32153]\n",
            "21\n",
            "300\n",
            "[5, 6, 10]\n",
            "3\n",
            "1\n",
            "[1, 1, 1]\n",
            "9\n",
            "24\n",
            "[2, 3, 4]\n"
          ]
        }
      ],
      "source": [
        "def func8(a, b, c=42):\n",
        "    sum1 = a + b + c\n",
        "    product = (a * b * c)\n",
        "    nums = sorted([a, b, c])\n",
        "\n",
        "    print(f\"{sum1}\\n{product}\\n{nums}\")\n",
        "\n",
        "func8(1, 52)\n",
        "func8(78, 45)\n",
        "func8(688, 92)\n",
        "func8(32153, 45)\n",
        "func8(5, 10, 6)\n",
        "func8(1, 1, 1)\n",
        "func8(2, 3, 4)"
      ]
    }
  ],
  "metadata": {
    "kernelspec": {
      "display_name": "Python 3",
      "language": "python",
      "name": "python3"
    },
    "language_info": {
      "codemirror_mode": {
        "name": "ipython",
        "version": 3
      },
      "file_extension": ".py",
      "mimetype": "text/x-python",
      "name": "python",
      "nbconvert_exporter": "python",
      "pygments_lexer": "ipython3",
      "version": "3.12.2"
    },
    "colab": {
      "provenance": [],
      "include_colab_link": true
    }
  },
  "nbformat": 4,
  "nbformat_minor": 0
}