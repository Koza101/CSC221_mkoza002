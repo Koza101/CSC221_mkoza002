{
  "cells": [
    {
      "cell_type": "markdown",
      "metadata": {
        "id": "view-in-github",
        "colab_type": "text"
      },
      "source": [
        "<a href=\"https://colab.research.google.com/github/Koza101/CSC221_mkoza002/blob/main/Assignment6.ipynb\" target=\"_parent\"><img src=\"https://colab.research.google.com/assets/colab-badge.svg\" alt=\"Open In Colab\"/></a>"
      ]
    },
    {
      "cell_type": "code",
      "execution_count": null,
      "metadata": {
        "id": "uJktNoeYE3Bl",
        "outputId": "89fe6231-e70c-4d3d-d52d-54bd3660c9ab"
      },
      "outputs": [
        {
          "name": "stdout",
          "output_type": "stream",
          "text": [
            "Is animal == 'cat'? I predict True.\n",
            "True\n",
            "\n",
            "Is animal == 'dog'? I predict False.\n",
            "False\n",
            "\n",
            "\n",
            "Is plant == 'tree'? I predict True.\n",
            "True\n",
            "\n",
            "Is plant == 'vine'? I predict False.\n",
            "False\n",
            "\n",
            "\n",
            "Is bike == 'mongoose'? I predict True.\n",
            "True\n",
            "\n",
            "Is bike == 'trek'? I predict False.\n",
            "False\n",
            "\n",
            "\n",
            "Is rock == 'granite'? I predict True.\n",
            "True\n",
            "\n",
            "Is rock == 'basalt'? I predict False.\n",
            "False\n",
            "\n",
            "\n",
            "Is phone == 'IOS'? I predict True.\n",
            "True\n",
            "\n",
            "Is phone == 'Android'? I predict False.\n",
            "False\n"
          ]
        }
      ],
      "source": [
        "# TIY 5-1\n",
        "\n",
        "animal = 'cat'\n",
        "print(\"Is animal == 'cat'? I predict True.\")\n",
        "print(animal == 'cat')\n",
        "print(\"\\nIs animal == 'dog'? I predict False.\")\n",
        "print(animal == 'dog')\n",
        "\n",
        "print('\\n')\n",
        "\n",
        "plant = 'tree'\n",
        "print(\"Is plant == 'tree'? I predict True.\")\n",
        "print(plant == 'tree')\n",
        "print(\"\\nIs plant == 'vine'? I predict False.\")\n",
        "print(plant == 'vine')\n",
        "\n",
        "print('\\n')\n",
        "\n",
        "bike = 'mongoose'\n",
        "print(\"Is bike == 'mongoose'? I predict True.\")\n",
        "print(bike == 'mongoose')\n",
        "print(\"\\nIs bike == 'trek'? I predict False.\")\n",
        "print(plant == 'trek')\n",
        "\n",
        "print('\\n')\n",
        "\n",
        "rock = 'granite'\n",
        "print(\"Is rock == 'granite'? I predict True.\")\n",
        "print(rock == 'granite')\n",
        "print(\"\\nIs rock == 'basalt'? I predict False.\")\n",
        "print(rock == 'basalt')\n",
        "\n",
        "print('\\n')\n",
        "\n",
        "phone = 'IOS'\n",
        "print(\"Is phone == 'IOS'? I predict True.\")\n",
        "print(phone == 'IOS')\n",
        "print(\"\\nIs phone == 'Android'? I predict False.\")\n",
        "print(phone == 'Android')"
      ]
    },
    {
      "cell_type": "code",
      "execution_count": null,
      "metadata": {
        "id": "h_c3xdZGE3Bn",
        "outputId": "6b745084-0224-4e63-b5c4-953a22210bf7"
      },
      "outputs": [
        {
          "name": "stdout",
          "output_type": "stream",
          "text": [
            "\n",
            "Type of motorcycle\n",
            "\n",
            "Is motorcycle == 'Suzuki'? I predict True\n",
            "True\n",
            "Is motorcycle != 'Kawasaki'? I predict False\n",
            "False\n",
            "\n",
            "Book Type\n",
            "\n",
            "Is the book == 'paper'? I predict False\n",
            "False\n",
            "Case needs to be changed to make this True\n",
            "True\n",
            "\n",
            "Some amount of coins\n",
            "\n",
            "True\n",
            "False\n",
            "True\n",
            "False\n",
            "True\n",
            "False\n",
            "\n",
            "Arbitrary measurement of lenght\n",
            "\n",
            "True\n",
            "False\n",
            "True\n",
            "False\n",
            "\n",
            "Checking list of names\n",
            "\n",
            "True\n",
            "False\n",
            "\n",
            "Checking if not in list of names\n",
            "\n",
            "True\n",
            "False\n"
          ]
        }
      ],
      "source": [
        "# TIY 5-2\n",
        "\n",
        "print('\\nType of motorcycle\\n')\n",
        "\n",
        "motorcycle = 'Suzuki'\n",
        "print(\"Is motorcycle == 'Suzuki'? I predict True\")\n",
        "print(motorcycle == 'Suzuki')\n",
        "print(\"Is motorcycle != 'Kawasaki'? I predict False\")\n",
        "print(motorcycle != 'Suzuki')\n",
        "\n",
        "print('\\nBook Type\\n')\n",
        "\n",
        "book = 'Paper'\n",
        "print(\"Is the book == 'paper'? I predict False\")\n",
        "print(book == 'paper')\n",
        "print(\"Case needs to be changed to make this True\")\n",
        "print(book.lower() == 'paper')\n",
        "\n",
        "print('\\nSome amount of coins\\n')\n",
        "\n",
        "coins = 25\n",
        "print(coins == 25)\n",
        "print(coins != 25)\n",
        "print(coins < 30)\n",
        "print(coins > 30)\n",
        "print(coins >= 20)\n",
        "print(coins <= 20)\n",
        "\n",
        "print('\\nArbitrary measurement of lenght\\n')\n",
        "\n",
        "length_0 = 22\n",
        "length_1 = 34\n",
        "print(length_0 == 22 and length_1 == 34)\n",
        "print(length_0 == 22 and length_1 != 34)\n",
        "print(length_0 != 22 or length_1 == 34)\n",
        "print(length_0 < 22 or length_1 > 34)\n",
        "\n",
        "print('\\nChecking list of names\\n')\n",
        "\n",
        "names = ['Gonzo', 'Kuba', 'Fritz']\n",
        "print('Gonzo' in names)\n",
        "print('Nick' in names)\n",
        "\n",
        "print('\\nChecking if not in list of names\\n')\n",
        "\n",
        "print('Nick' not in names)\n",
        "print('Gonzo' not in names)"
      ]
    },
    {
      "cell_type": "code",
      "execution_count": null,
      "metadata": {
        "id": "_Vng67zFE3Bn",
        "outputId": "e928c2a8-9b68-43ac-aa5b-f173a15ef9bb"
      },
      "outputs": [
        {
          "name": "stdout",
          "output_type": "stream",
          "text": [
            "You got +5 Points!\n"
          ]
        }
      ],
      "source": [
        "# TIY 5-3\n",
        "\n",
        "alien_color = 'green'\n",
        "\n",
        "if alien_color == 'green':\n",
        "  print('You got +5 Points!')\n",
        "\n",
        "if alien_color == 'red':\n",
        "  print()"
      ]
    },
    {
      "cell_type": "code",
      "execution_count": null,
      "metadata": {
        "id": "clHrHo7WE3Bn",
        "outputId": "1751582b-238e-424d-dfc6-742ffe084fab"
      },
      "outputs": [
        {
          "name": "stdout",
          "output_type": "stream",
          "text": [
            "This person is an adult\n"
          ]
        }
      ],
      "source": [
        "# TIY 5-6\n",
        "\n",
        "age = 25\n",
        "\n",
        "if age < 2:\n",
        "    print(\"This person's just a baby!\")\n",
        "\n",
        "elif age > 2 and age < 4:\n",
        "    print(\"This person is a toddler\")\n",
        "\n",
        "elif age > 4 and age < 13:\n",
        "    print(\"This person is a kid\")\n",
        "\n",
        "elif age > 13 and age < 20:\n",
        "    print(\"This person is a teenager\")\n",
        "\n",
        "elif age > 20 and age < 65:\n",
        "    print(\"This person is an adult\")\n",
        "\n",
        "else:\n",
        "    print(\"This peron is an elder\")\n"
      ]
    },
    {
      "cell_type": "markdown",
      "metadata": {
        "id": "grKixOd0E3Bn"
      },
      "source": [
        "Problem: I have a lot of trouble with cooking unless I have a recipe to follow. I would like to have a good reference for what seasonings and spices go with what protein and what to have as a side dish to compliment the meal. I would like to create a program that takes an input of the protein I have on hand (Chicken, pork, beef, fish) and gives me suggestions as to what I can season it with and have as a side."
      ]
    },
    {
      "cell_type": "markdown",
      "metadata": {
        "id": "Dx6l56i-E3Bo"
      },
      "source": [
        "Prompt the user for what protein they will be cooking with (chicken, pork, beef, fish).\n",
        "\n",
        "prompt the user for the method they plan on cooking the protein with (pan, oven, or grilling).\n",
        "\n",
        "if the protein is chicken and the method is skillet\n",
        "        suggest 3 recipe ideas for cooking chicken in a skillet\n",
        "    elif the protein is chicken and the method is skillet\n",
        "        suggest 3 recipe ideas for cooking chicken in an oven\n",
        "    elif the protein is chicken and the method is grilling\n",
        "        suggest 3 recipe ideas for cooking chicken on the grill\n",
        "\n",
        "    elif the protein is pork and the method is skillet\n",
        "        suggest 3 recipe ideas for cooking pork in a skillet\n",
        "    elif the protein is pork and the method is oven\n",
        "        suggest 3 recipe ideas for cooking pork in an oven\n",
        "    elif the protein is pork and the method is grilling\n",
        "        suggest 3 recipe ideas for cooking pork on the grill\n",
        "\n",
        "    elif the protein is beef and the method is skillet\n",
        "        suggest 3 recipe ideas for cooking beef in a skillet\n",
        "    elif the protein is beef and the method is oven\n",
        "        suggest 3 recipe ideas for cooking beef in an oven\n",
        "    elif the protein is beef and the method is grilling\n",
        "        suggest 3 recipe ideas for cooking beef on the grill\n",
        "\n",
        "    elif the protein is fish and the method is skillet\n",
        "        suggest 3 recipe ideas for cooking fish in a skillet\n",
        "    elif the protein is fish and the method is oven\n",
        "        suggest 3 recipe ideas for cooking fish in an oven\n",
        "    elif the protein is fish and the method is grilling\n",
        "        suggest 3 recipe ideas for cooking fish on the grill\n",
        "\n",
        "else\n",
        "    ask the user to check that their input was typed correctly and to try again\n"
      ]
    },
    {
      "cell_type": "code",
      "execution_count": 1,
      "metadata": {
        "colab": {
          "base_uri": "https://localhost:8080/"
        },
        "id": "QtB16_diE3Bo",
        "outputId": "ee1b7dd4-47c7-450f-abc1-4c316fa9f9bd"
      },
      "outputs": [
        {
          "output_type": "stream",
          "name": "stdout",
          "text": [
            "Please Enter:\n",
            " Chicken, Pork, Beef, or Fish.Chicken\n",
            "Please Enter: skillet, an oven, or grilling?\n",
            "Oven\n",
            "Try these ideas: French Onion Chicken\n",
            "Chicken Tikka Masala\n",
            "Maple Mustard Chicken\n"
          ]
        }
      ],
      "source": [
        "protein = input(\"Please Enter:\\nChicken, Pork, Beef, or Fish.\").lower()\n",
        "\n",
        "method = input(\"Please Enter: skillet, an oven, or grilling?\\n\").lower()\n",
        "\n",
        "if protein == 'chicken' and method == 'skillet':\n",
        "    print('Try these ideas: Lemon Pepper Chicken\\n Garlic Herb Chicken\\n BBQ Chicken')\n",
        "elif protein == 'chicken' and method == 'oven':\n",
        "    print('Try these ideas: French Onion Chicken\\nChicken Tikka Masala\\nMaple Mustard Chicken')\n",
        "elif protein == 'chicken' and method == 'grilling':\n",
        "    print('Try these ideas: Chicken Chile Tacos\\nTandoori Chicken\\nJamaican Jerk Chicken')\n",
        "\n",
        "elif protein == 'pork' and method == 'skillet':\n",
        "    print('Try these ideas: Salt and Pepper Pork Chops\\nPork Schnitzel\\nHoney Glazed Pork Chops ')\n",
        "elif protein == 'pork' and method == 'oven':\n",
        "    print('Try these ideas: Roasted Pork Tenderloin\\nSheet Pan Pork Chops\\nCreamy Garlic Pork Chops ')\n",
        "elif protein == 'pork' and method == 'grilling':\n",
        "    print('Try these ideas: BBQ Pulled Pork\\nRibs on the Grill\\nHoney Soy Pork Chops')\n",
        "\n",
        "elif protein == 'beef' and method == 'skillet':\n",
        "    print('Try these ideas: Mexican Beef and Rice\\nGoulash\\nChilli')\n",
        "elif protein == 'beef' and method == 'oven':\n",
        "    print('Try these ideas: Stuffed Peppers\\nMeatloaf\\nShepards Pie')\n",
        "elif protein == 'beef' and method == 'grilling':\n",
        "    print('Try these ideas: Beef Galbi\\nCarne Asada\\nKebabs')\n",
        "\n",
        "elif protein == 'fish' and method == 'skillet':\n",
        "    print('Try these ideas: Lemon Garlic fish\\nSalmon Picatta\\nBlackened Tuna')\n",
        "elif protein == 'fish' and method == 'oven':\n",
        "    print('Try these ideas: Herb Roasted Trout\\nSlow Roasted Salmon with Tarragon and Citrus\\nCrispy Baked Tilapia')\n",
        "elif protein == 'fish' and method == 'grilling':\n",
        "    print('Try these ideas: Cedar Plank Salmon\\nGrilled Mahi Mahi Tacos\\nHalibut with Chimichurri')\n",
        "else:\n",
        "    print(\"Please Make sure your input is correctly typed and fits the criteria outlined in the prompt.\")\n",
        ""
      ]
    }
  ],
  "metadata": {
    "kernelspec": {
      "display_name": "Python 3",
      "language": "python",
      "name": "python3"
    },
    "language_info": {
      "codemirror_mode": {
        "name": "ipython",
        "version": 3
      },
      "file_extension": ".py",
      "mimetype": "text/x-python",
      "name": "python",
      "nbconvert_exporter": "python",
      "pygments_lexer": "ipython3",
      "version": "3.12.2"
    },
    "colab": {
      "provenance": [],
      "include_colab_link": true
    }
  },
  "nbformat": 4,
  "nbformat_minor": 0
}