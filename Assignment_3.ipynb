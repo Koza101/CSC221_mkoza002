{
  "cells": [
    {
      "cell_type": "markdown",
      "metadata": {
        "id": "view-in-github",
        "colab_type": "text"
      },
      "source": [
        "<a href=\"https://colab.research.google.com/github/Koza101/CSC221_mkoza002/blob/main/Assignment_3.ipynb\" target=\"_parent\"><img src=\"https://colab.research.google.com/assets/colab-badge.svg\" alt=\"Open In Colab\"/></a>"
      ]
    },
    {
      "cell_type": "code",
      "execution_count": 1,
      "metadata": {
        "colab": {
          "base_uri": "https://localhost:8080/"
        },
        "id": "gdUI2v6RBEzV",
        "outputId": "51c92e2a-cdc1-463e-c35f-25c77e6d4238"
      },
      "outputs": [
        {
          "output_type": "stream",
          "name": "stdout",
          "text": [
            "Gonzo\n",
            "Kuba\n",
            "Fritz\n"
          ]
        }
      ],
      "source": [
        "# TIY 3-1\n",
        "\n",
        "names = ['Gonzo', 'Kuba', 'Fritz']\n",
        "\n",
        "print(names[0])\n",
        "print(names[1])\n",
        "print(names[2])"
      ]
    },
    {
      "cell_type": "code",
      "execution_count": null,
      "metadata": {
        "id": "m_Iw5jYEBEzY",
        "outputId": "8f930bf9-4a46-493a-ca4c-08c4cf55b4b4"
      },
      "outputs": [
        {
          "name": "stdout",
          "output_type": "stream",
          "text": [
            "Greetings Gonzo\n",
            "Greetings Kuba\n",
            "Greetings Fritz\n"
          ]
        }
      ],
      "source": [
        "# TIY 3-2\n",
        "\n",
        "names = ['Gonzo', 'Kuba', 'Fritz']\n",
        "\n",
        "msg = f\"Greetings {names[0].title()}\"\n",
        "\n",
        "print(msg)\n",
        "\n",
        "msg = f\"Greetings {names[1].title()}\"\n",
        "\n",
        "print(msg)\n",
        "\n",
        "msg = f\"Greetings {names[2].title()}\"\n",
        "\n",
        "print(msg)"
      ]
    },
    {
      "cell_type": "code",
      "execution_count": null,
      "metadata": {
        "id": "ZJQX5_lHBEzZ",
        "outputId": "bc5b7753-df22-4139-f246-c122998c0aca"
      },
      "outputs": [
        {
          "name": "stdout",
          "output_type": "stream",
          "text": [
            "My dream car is a Mazda Rx7\n",
            "If I ever get rich I want a Lexus Lfa\n",
            "For a daily driver, I think a Mitsubishi Evo X would be a fun 'grocery getter'\n"
          ]
        }
      ],
      "source": [
        "# TIY 3-3\n",
        "\n",
        "cars = ['Mazda RX7', 'Lexus LFA', 'Mitsubishi Evo X']\n",
        "\n",
        "msg = f\"My dream car is a {cars[0].title()}\"\n",
        "\n",
        "print(msg)\n",
        "\n",
        "msg = f\"If I ever get rich I want a {cars[1].title()}\"\n",
        "\n",
        "print(msg)\n",
        "\n",
        "\n",
        "msg = f\"For a daily driver, I think a {cars[2].title()} would be a fun 'grocery getter'\"\n",
        "\n",
        "print(msg)\n",
        "\n"
      ]
    },
    {
      "cell_type": "code",
      "execution_count": null,
      "metadata": {
        "id": "icn0yfmkBEzZ",
        "outputId": "80f3f8a7-7230-42bf-e26e-4ead21302386"
      },
      "outputs": [
        {
          "name": "stdout",
          "output_type": "stream",
          "text": [
            "Please join me for dinner, Marcus Aurelius\n",
            "Please join me for dinner, Friedrich Nietzsche\n",
            "Please join me for dinner, Mark Manson\n"
          ]
        }
      ],
      "source": [
        "# TIY 3-4\n",
        "\n",
        "guests = ['marcus aurelius', 'friedrich nietzsche', 'mark manson']\n",
        "\n",
        "inv = f\"Please join me for dinner, {guests[0].title()}.\"\n",
        "print(inv)\n",
        "\n",
        "inv = f\"Please join me for dinner, {guests[1].title()}.\"\n",
        "print(inv)\n",
        "\n",
        "inv = f\"Please join me for dinner, {guests[2].title()}.\"\n",
        "print(inv)"
      ]
    },
    {
      "cell_type": "code",
      "execution_count": null,
      "metadata": {
        "id": "gqE0tb-6BEza",
        "outputId": "afd5da5c-e7b7-4404-d2f2-01e32a02304e"
      },
      "outputs": [
        {
          "name": "stdout",
          "output_type": "stream",
          "text": [
            "Please join me for dinner, Marcus Aurelius.\n",
            "Please join me for dinner, Friedrich Nietzsche.\n",
            "Please join me for dinner, Mark Manson.\n",
            "\n",
            "Unfortunately, Mark Manson is not able to attend.\n",
            "\n",
            "Please join me for dinner, Marcus Aurelius.\n",
            "Please join me for dinner, Friedrich Nietzsche.\n",
            "Please join me for dinner, Victor Frankel.\n"
          ]
        }
      ],
      "source": [
        "# TIY 3-5\n",
        "\n",
        "guests = ['marcus aurelius', 'friedrich nietzsche', 'mark manson']\n",
        "\n",
        "inv = f\"Please join me for dinner, {guests[0].title()}.\"\n",
        "print(inv)\n",
        "\n",
        "inv = f\"Please join me for dinner, {guests[1].title()}.\"\n",
        "print(inv)\n",
        "\n",
        "inv = f\"Please join me for dinner, {guests[2].title()}.\"\n",
        "print(inv)\n",
        "\n",
        "inv = f\"\\nUnfortunately, {guests[2].title()} is not able to attend.\\n\"\n",
        "print(inv)\n",
        "\n",
        "del(guests[2])\n",
        "guests.insert(2, 'victor frankel')\n",
        "\n",
        "inv = f\"Please join me for dinner, {guests[0].title()}.\"\n",
        "print(inv)\n",
        "\n",
        "inv = f\"Please join me for dinner, {guests[1].title()}.\"\n",
        "print(inv)\n",
        "\n",
        "inv = f\"Please join me for dinner, {guests[2].title()}.\"\n",
        "print(inv)"
      ]
    },
    {
      "cell_type": "code",
      "execution_count": null,
      "metadata": {
        "id": "BxLe9G9PBEzb",
        "outputId": "82afa5a3-0076-48b7-b83b-6aff354b2479"
      },
      "outputs": [
        {
          "name": "stdout",
          "output_type": "stream",
          "text": [
            "Please join me for dinner, Marcus Aurelius.\n",
            "Please join me for dinner, Friedrich Nietzsche.\n",
            "Please join me for dinner, Mark Manson.\n",
            "\n",
            "Unfortunately, Mark Manson is not able to attend.\n",
            "\n",
            "Please join me for dinner, Marcus Aurelius.\n",
            "Please join me for dinner, Friedrich Nietzsche.\n",
            "Please join me for dinner, Victor Frankel.\n",
            "\n",
            " It seems we have found a bigger table!\n",
            "\n",
            "Please join me for dinner, Ken Block.\n",
            "Please join me for dinner, Marcus Aurelius.\n",
            "Please join me for dinner, Nikola Tesla.\n",
            "Please join me for dinner, Friedrich Nietzsche.\n",
            "Please join me for dinner, Victor Frankel.\n",
            "Please join me for dinner, Steven Hawking.\n"
          ]
        }
      ],
      "source": [
        "# TIY 3-6\n",
        "\n",
        "guests = ['marcus aurelius', 'friedrich nietzsche', 'mark manson']\n",
        "\n",
        "inv = f\"Please join me for dinner, {guests[0].title()}.\"\n",
        "print(inv)\n",
        "\n",
        "inv = f\"Please join me for dinner, {guests[1].title()}.\"\n",
        "print(inv)\n",
        "\n",
        "inv = f\"Please join me for dinner, {guests[2].title()}.\"\n",
        "print(inv)\n",
        "\n",
        "inv = f\"\\nUnfortunately, {guests[2].title()} is not able to attend.\\n\"\n",
        "print(inv)\n",
        "\n",
        "del(guests[2])\n",
        "guests.insert(2, 'victor frankel')\n",
        "\n",
        "inv = f\"Please join me for dinner, {guests[0].title()}.\"\n",
        "print(inv)\n",
        "\n",
        "inv = f\"Please join me for dinner, {guests[1].title()}.\"\n",
        "print(inv)\n",
        "\n",
        "inv = f\"Please join me for dinner, {guests[2].title()}.\"\n",
        "print(inv)\n",
        "\n",
        "print(f\"\\n It seems we have found a bigger table!\\n\")\n",
        "\n",
        "guests.insert(0, 'ken block')\n",
        "guests.insert(2, 'nikola tesla')\n",
        "guests.append('steven hawking')\n",
        "\n",
        "inv = f\"Please join me for dinner, {guests[0].title()}.\"\n",
        "print(inv)\n",
        "\n",
        "inv = f\"Please join me for dinner, {guests[1].title()}.\"\n",
        "print(inv)\n",
        "\n",
        "inv = f\"Please join me for dinner, {guests[2].title()}.\"\n",
        "print(inv)\n",
        "\n",
        "inv = f\"Please join me for dinner, {guests[3].title()}.\"\n",
        "print(inv)\n",
        "\n",
        "inv = f\"Please join me for dinner, {guests[4].title()}.\"\n",
        "print(inv)\n",
        "\n",
        "inv = f\"Please join me for dinner, {guests[5].title()}.\"\n",
        "print(inv)\n",
        "\n"
      ]
    },
    {
      "cell_type": "code",
      "execution_count": null,
      "metadata": {
        "id": "VKEAM2HaBEzb",
        "outputId": "f03b35dd-8601-437b-dab5-b418663d1541"
      },
      "outputs": [
        {
          "name": "stdout",
          "output_type": "stream",
          "text": [
            "Please join me for dinner, Marcus Aurelius.\n",
            "Please join me for dinner, Friedrich Nietzsche.\n",
            "Please join me for dinner, Mark Manson.\n",
            "\n",
            "Unfortunately, Mark Manson is not able to attend.\n",
            "\n",
            "Please join me for dinner, Marcus Aurelius.\n",
            "Please join me for dinner, Friedrich Nietzsche.\n",
            "Please join me for dinner, Victor Frankel.\n",
            "\n",
            " It seems we have found a bigger table!\n",
            "\n",
            "Please join me for dinner, Ken Block.\n",
            "Please join me for dinner, Marcus Aurelius.\n",
            "Please join me for dinner, Nikola Tesla.\n",
            "Please join me for dinner, Friedrich Nietzsche.\n",
            "Please join me for dinner, Victor Frankel.\n",
            "Please join me for dinner, Steven Hawking.\n",
            "\n",
            " I just learned the table will not be arriving in time, only two people are now able to attend.\n",
            "\n",
            "My sincerest apologies Steven Hawking, I have to rescind you dinner invitation due to lack of seating.\n",
            "My sincerest apologies Victor Frankel, I have to rescind you dinner invitation due to lack of seating.\n",
            "My sincerest apologies Friedrich Nietzsche, I have to rescind you dinner invitation due to lack of seating.\n",
            "My sincerest apologies Nikola Tesla, I have to rescind you dinner invitation due to lack of seating.\n",
            "\n",
            "Please join me for dinner, Ken Block.\n",
            "Please join me for dinner, Marcus Aurelius.\n",
            "[]\n"
          ]
        }
      ],
      "source": [
        "# TIY 3-7\n",
        "\n",
        "guests = ['marcus aurelius', 'friedrich nietzsche', 'mark manson']\n",
        "\n",
        "inv = f\"Please join me for dinner, {guests[0].title()}.\"\n",
        "print(inv)\n",
        "\n",
        "inv = f\"Please join me for dinner, {guests[1].title()}.\"\n",
        "print(inv)\n",
        "\n",
        "inv = f\"Please join me for dinner, {guests[2].title()}.\"\n",
        "print(inv)\n",
        "\n",
        "inv = f\"\\nUnfortunately, {guests[2].title()} is not able to attend.\\n\"\n",
        "print(inv)\n",
        "\n",
        "del(guests[2])\n",
        "guests.insert(2, 'victor frankel')\n",
        "\n",
        "inv = f\"Please join me for dinner, {guests[0].title()}.\"\n",
        "print(inv)\n",
        "\n",
        "inv = f\"Please join me for dinner, {guests[1].title()}.\"\n",
        "print(inv)\n",
        "\n",
        "inv = f\"Please join me for dinner, {guests[2].title()}.\"\n",
        "print(inv)\n",
        "\n",
        "print(f\"\\n It seems we have found a bigger table!\\n\")\n",
        "\n",
        "guests.insert(0, 'ken block')\n",
        "guests.insert(2, 'nikola tesla')\n",
        "guests.append('steven hawking')\n",
        "\n",
        "inv = f\"Please join me for dinner, {guests[0].title()}.\"\n",
        "print(inv)\n",
        "\n",
        "inv = f\"Please join me for dinner, {guests[1].title()}.\"\n",
        "print(inv)\n",
        "\n",
        "inv = f\"Please join me for dinner, {guests[2].title()}.\"\n",
        "print(inv)\n",
        "\n",
        "inv = f\"Please join me for dinner, {guests[3].title()}.\"\n",
        "print(inv)\n",
        "\n",
        "inv = f\"Please join me for dinner, {guests[4].title()}.\"\n",
        "print(inv)\n",
        "\n",
        "inv = f\"Please join me for dinner, {guests[5].title()}.\"\n",
        "print(inv)\n",
        "\n",
        "print(f\"\\n I just learned the table will not be arriving in time, only two people are now able to attend.\\n\")\n",
        "\n",
        "inv = guests.pop()\n",
        "print(f\"My sincerest apologies {inv.title()}, I have to rescind you dinner invitation due to lack of seating.\")\n",
        "\n",
        "inv = guests.pop()\n",
        "print(f\"My sincerest apologies {inv.title()}, I have to rescind you dinner invitation due to lack of seating.\")\n",
        "\n",
        "inv = guests.pop()\n",
        "print(f\"My sincerest apologies {inv.title()}, I have to rescind you dinner invitation due to lack of seating.\")\n",
        "\n",
        "inv = guests.pop()\n",
        "print(f\"My sincerest apologies {inv.title()}, I have to rescind you dinner invitation due to lack of seating.\")\n",
        "\n",
        "inv = f\"\\nPlease join me for dinner, {guests[0].title()}.\"\n",
        "print(inv)\n",
        "\n",
        "inv = f\"Please join me for dinner, {guests[1].title()}.\"\n",
        "print(inv)\n",
        "\n",
        "del(guests[0])\n",
        "del(guests[0])\n",
        "\n",
        "print(guests)"
      ]
    },
    {
      "cell_type": "code",
      "execution_count": null,
      "metadata": {
        "id": "jxzyJXKLBEzc",
        "outputId": "b1d8e9bc-6ae5-4921-8182-c63868450baa"
      },
      "outputs": [
        {
          "name": "stdout",
          "output_type": "stream",
          "text": [
            "Original order:\n",
            "['warsaw', 'hawaii', 'berlin', 'krakow', 'alps']\n",
            "\n",
            "Alphabetical:\n",
            "['alps', 'berlin', 'hawaii', 'krakow', 'warsaw']\n",
            "\n",
            "Alphabetical:\n",
            "['warsaw', 'hawaii', 'berlin', 'krakow', 'alps']\n",
            "\n",
            "Reverse alphabetical:\n",
            "['warsaw', 'krakow', 'hawaii', 'berlin', 'alps']\n",
            "\n",
            "Original order:\n",
            "['warsaw', 'hawaii', 'berlin', 'krakow', 'alps']\n",
            "\n",
            "Reversed:\n",
            "['alps', 'krakow', 'berlin', 'hawaii', 'warsaw']\n",
            "\n",
            "Original order:\n",
            "['warsaw', 'hawaii', 'berlin', 'krakow', 'alps']\n",
            "\n",
            "Alphabetical\n",
            "['alps', 'berlin', 'hawaii', 'krakow', 'warsaw']\n",
            "\n",
            "Reverse alphabetical\n",
            "['warsaw', 'krakow', 'hawaii', 'berlin', 'alps']\n"
          ]
        }
      ],
      "source": [
        "# TIY 3-8\n",
        "\n",
        "visit = ['warsaw', 'hawaii', 'berlin', 'krakow', 'alps']\n",
        "\n",
        "print(\"Original order:\")\n",
        "print(visit)\n",
        "\n",
        "print(\"\\nAlphabetical:\")\n",
        "print(sorted(visit))\n",
        "\n",
        "print(\"\\nAlphabetical:\")\n",
        "print(visit)\n",
        "\n",
        "print(\"\\nReverse alphabetical:\")\n",
        "print(sorted(visit, reverse=True))\n",
        "\n",
        "print(\"\\nOriginal order:\")\n",
        "print(visit)\n",
        "\n",
        "print(\"\\nReversed:\")\n",
        "visit.reverse()\n",
        "print(visit)\n",
        "\n",
        "print(\"\\nOriginal order:\")\n",
        "visit.reverse()\n",
        "print(visit)\n",
        "\n",
        "print(\"\\nAlphabetical\")\n",
        "visit.sort()\n",
        "print(visit)\n",
        "\n",
        "print(\"\\nReverse alphabetical\")\n",
        "visit.sort(reverse=True)\n",
        "print(visit)\n",
        "\n"
      ]
    },
    {
      "cell_type": "code",
      "execution_count": null,
      "metadata": {
        "id": "qEitGaJvBEzd",
        "outputId": "f7a9bee6-19d9-4eb6-eba1-53bcd171a3d7"
      },
      "outputs": [
        {
          "name": "stdout",
          "output_type": "stream",
          "text": [
            "Please join me for dinner, Marcus Aurelius.\n",
            "Please join me for dinner, Friedrich Nietzsche.\n",
            "Please join me for dinner, Mark Manson.\n"
          ]
        },
        {
          "data": {
            "text/plain": [
              "3"
            ]
          },
          "execution_count": 58,
          "metadata": {},
          "output_type": "execute_result"
        }
      ],
      "source": [
        "# TIY 3-9\n",
        "\n",
        "guests = ['marcus aurelius', 'friedrich nietzsche', 'mark manson']\n",
        "\n",
        "inv = f\"Please join me for dinner, {guests[0].title()}.\"\n",
        "print(inv)\n",
        "\n",
        "inv = f\"Please join me for dinner, {guests[1].title()}.\"\n",
        "print(inv)\n",
        "\n",
        "inv = f\"Please join me for dinner, {guests[2].title()}.\"\n",
        "print(inv)\n",
        "\n",
        "len(guests)"
      ]
    },
    {
      "cell_type": "code",
      "execution_count": null,
      "metadata": {
        "id": "s_L8RxMSBEzd",
        "outputId": "25029583-9f9b-4bc9-8061-8805c46a1fec"
      },
      "outputs": [
        {
          "name": "stdout",
          "output_type": "stream",
          "text": [
            "Original order:\n",
            "['Skiing', 'kiteboarding', 'guitar', 'computers']\n",
            "\n",
            "Alphabetical:\n",
            "['Skiing', 'computers', 'guitar', 'kiteboarding']\n",
            "\n",
            "Alphabetical:\n",
            "['Skiing', 'kiteboarding', 'guitar', 'computers']\n",
            "\n",
            "Reverse alphabetical:\n",
            "['kiteboarding', 'guitar', 'computers', 'Skiing']\n",
            "\n",
            "Original order:\n",
            "['Skiing', 'kiteboarding', 'guitar', 'computers']\n",
            "\n",
            "Reversed:\n",
            "['computers', 'guitar', 'kiteboarding', 'Skiing']\n",
            "\n",
            "Original order:\n",
            "['Skiing', 'kiteboarding', 'guitar', 'computers']\n",
            "\n",
            "Alphabetical\n",
            "['Skiing', 'computers', 'guitar', 'kiteboarding']\n",
            "\n",
            "Reverse alphabetical\n",
            "['kiteboarding', 'guitar', 'computers', 'Skiing']\n"
          ]
        }
      ],
      "source": [
        "# TIY 3-10\n",
        "\n",
        "hobbies = ['Skiing', 'kiteboarding', 'guitar', 'computers']\n",
        "\n",
        "print(\"Original order:\")\n",
        "print(hobbies)\n",
        "\n",
        "print(\"\\nAlphabetical:\")\n",
        "print(sorted(hobbies))\n",
        "\n",
        "print(\"\\nAlphabetical:\")\n",
        "print(hobbies)\n",
        "\n",
        "print(\"\\nReverse alphabetical:\")\n",
        "print(sorted(hobbies, reverse=True))\n",
        "\n",
        "print(\"\\nOriginal order:\")\n",
        "print(hobbies)\n",
        "\n",
        "print(\"\\nReversed:\")\n",
        "hobbies.reverse()\n",
        "print(hobbies)\n",
        "\n",
        "print(\"\\nOriginal order:\")\n",
        "hobbies.reverse()\n",
        "print(hobbies)\n",
        "\n",
        "print(\"\\nAlphabetical\")\n",
        "hobbies.sort()\n",
        "print(hobbies)\n",
        "\n",
        "print(\"\\nReverse alphabetical\")\n",
        "hobbies.sort(reverse=True)\n",
        "print(hobbies)"
      ]
    }
  ],
  "metadata": {
    "kernelspec": {
      "display_name": "Python 3",
      "language": "python",
      "name": "python3"
    },
    "language_info": {
      "codemirror_mode": {
        "name": "ipython",
        "version": 3
      },
      "file_extension": ".py",
      "mimetype": "text/x-python",
      "name": "python",
      "nbconvert_exporter": "python",
      "pygments_lexer": "ipython3",
      "version": "3.12.2"
    },
    "colab": {
      "provenance": [],
      "include_colab_link": true
    }
  },
  "nbformat": 4,
  "nbformat_minor": 0
}