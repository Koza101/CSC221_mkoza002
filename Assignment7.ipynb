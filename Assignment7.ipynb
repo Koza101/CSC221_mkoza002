{
  "cells": [
    {
      "cell_type": "markdown",
      "metadata": {
        "id": "view-in-github",
        "colab_type": "text"
      },
      "source": [
        "<a href=\"https://colab.research.google.com/github/Koza101/CSC221_mkoza002/blob/main/Assignment7.ipynb\" target=\"_parent\"><img src=\"https://colab.research.google.com/assets/colab-badge.svg\" alt=\"Open In Colab\"/></a>"
      ]
    },
    {
      "cell_type": "code",
      "execution_count": null,
      "metadata": {
        "id": "OiAho1fPX-09",
        "outputId": "add4a553-48ac-44c5-c699-7b1c36cc5069"
      },
      "outputs": [
        {
          "name": "stdout",
          "output_type": "stream",
          "text": [
            "Andrew\n",
            "Gonzales\n",
            "28\n",
            "Plattsburgh\n"
          ]
        }
      ],
      "source": [
        "# TIY 6-1\n",
        "\n",
        "friend = {'first_name': 'Andrew', 'last_name': 'Gonzales', 'age': 28, 'city': 'Plattsburgh'}\n",
        "\n",
        "print(friend['first_name'])\n",
        "print(friend['last_name'])\n",
        "print(friend['age'])\n",
        "print(friend['city'])\n"
      ]
    },
    {
      "cell_type": "code",
      "execution_count": null,
      "metadata": {
        "id": "QZ2EbsGnX-1A",
        "outputId": "57e5af82-31a6-4877-ba2f-97579c153983"
      },
      "outputs": [
        {
          "name": "stdout",
          "output_type": "stream",
          "text": [
            "Andrew's favorite number is 46\n",
            "Josie's favorite number is 23\n",
            "Gavin's favorite number is 14\n",
            "Brianna's favorite number is 36\n",
            "Kuba's favorite number is 7\n"
          ]
        }
      ],
      "source": [
        "# TIY 6-2\n",
        "\n",
        "favorite_numbers = {'andrew': 46, 'josie': 23, 'gavin': 14, 'brianna': 36, 'kuba': 7}\n",
        "\n",
        "fav = favorite_numbers['andrew']\n",
        "print(f\"Andrew's favorite number is {fav}\")\n",
        "\n",
        "fav = favorite_numbers['josie']\n",
        "print(f\"Josie's favorite number is {fav}\")\n",
        "\n",
        "fav = favorite_numbers['gavin']\n",
        "print(f\"Gavin's favorite number is {fav}\")\n",
        "\n",
        "fav = favorite_numbers['brianna']\n",
        "print(f\"Brianna's favorite number is {fav}\")\n",
        "\n",
        "fav = favorite_numbers['kuba']\n",
        "print(f\"Kuba's favorite number is {fav}\")"
      ]
    },
    {
      "cell_type": "code",
      "execution_count": null,
      "metadata": {
        "id": "PiCXK697X-1B",
        "outputId": "c023acbe-fcf4-4022-c87b-faabb8dbadd9"
      },
      "outputs": [
        {
          "name": "stdout",
          "output_type": "stream",
          "text": [
            "List:\n",
            " A collection of items in a particular order\n",
            "Traceback:\n",
            " A record of where the interpreter ran into trouble while trying to execute\n",
            "String:\n",
            " A series of characters\n",
            "Method:\n",
            " An action that Python can perform on a piece of data\n",
            "Whitespace:\n",
            " Any non printing characters\n"
          ]
        }
      ],
      "source": [
        "# TIY 6-3\n",
        "\n",
        "glossary = {\n",
        "    'list': 'A collection of items in a particular order',\n",
        "    'traceback': 'A record of where the interpreter ran into trouble while trying to execute',\n",
        "    'string': 'A series of characters',\n",
        "    'method': 'An action that Python can perform on a piece of data',\n",
        "    'whitespace': 'Any non printing characters',}\n",
        "\n",
        "word = 'list'\n",
        "print(f\"{word.title()}:\\n {glossary['list']}\")\n",
        "\n",
        "word = 'traceback'\n",
        "print(f\"{word.title()}:\\n {glossary['traceback']}\")\n",
        "\n",
        "word = 'string'\n",
        "print(f\"{word.title()}:\\n {glossary['string']}\")\n",
        "\n",
        "word = 'method'\n",
        "print(f\"{word.title()}:\\n {glossary['method']}\")\n",
        "\n",
        "word = 'whitespace'\n",
        "print(f\"{word.title()}:\\n {glossary['whitespace']}\")"
      ]
    },
    {
      "cell_type": "code",
      "execution_count": null,
      "metadata": {
        "id": "6hlD6xPqX-1B",
        "outputId": "72e54a00-2eb0-4e0d-eb12-1384842acf7d"
      },
      "outputs": [
        {
          "name": "stdout",
          "output_type": "stream",
          "text": [
            "Word: List\n",
            "Definition: A collection of items in a particular order\n",
            "Word: Traceback\n",
            "Definition: A record of where the interpreter ran into trouble while trying to execute\n",
            "Word: String\n",
            "Definition: A series of characters\n",
            "Word: Method\n",
            "Definition: An action that Python can perform on a piece of data\n",
            "Word: Whitespace\n",
            "Definition: Any non printing characters\n",
            "Word: Float\n",
            "Definition: Any number with a decimal point\n",
            "Word: Comment\n",
            "Definition: Allows you to write notes in your spoken language\n",
            "Word: Slice\n",
            "Definition: A specific group of items in a list\n",
            "Word: Immutable\n",
            "Definition: Values that cannot change\n",
            "Word: Tuple\n",
            "Definition: A list of immutable values\n"
          ]
        }
      ],
      "source": [
        "# TIY 6-4\n",
        "\n",
        "glossary = {\n",
        "    'list': 'A collection of items in a particular order',\n",
        "    'traceback': 'A record of where the interpreter ran into trouble while trying to execute',\n",
        "    'string': 'A series of characters',\n",
        "    'method': 'An action that Python can perform on a piece of data',\n",
        "    'whitespace': 'Any non printing characters',\n",
        "    'float': 'Any number with a decimal point',\n",
        "    'comment': 'Allows you to write notes in your spoken language',\n",
        "    'slice': 'A specific group of items in a list',\n",
        "    'immutable': 'Values that cannot change',\n",
        "    'tuple': 'A list of immutable values',}\n",
        "\n",
        "for word, definition in glossary.items():\n",
        "    print(f\"Word: {word.title()}\")\n",
        "    print(f\"Definition: {definition}\")\n"
      ]
    },
    {
      "cell_type": "code",
      "execution_count": null,
      "metadata": {
        "id": "LCIYK10sX-1B",
        "outputId": "b9a0c740-5c0e-4ccc-847f-423f9c7890c8"
      },
      "outputs": [
        {
          "name": "stdout",
          "output_type": "stream",
          "text": [
            "\n",
            "Plattsburgh is in United States of America\n",
            "It has a population of about 19909\n",
            "The nearest lake to it is Lake Champlain\n",
            "\n",
            "New York City is in United States of America\n",
            "It has a population of about 8468000\n",
            "The nearest lake to it is Lake George\n",
            "\n",
            "Madrid is in Spain\n",
            "It has a population of about 3223000\n",
            "The nearest lake to it is Estanque Grande del Buen Retiro\n"
          ]
        }
      ],
      "source": [
        "# TIY 6-11\n",
        "\n",
        "cities = {\n",
        "    'plattsburgh': {\n",
        "        'country': 'United States of America',\n",
        "        'population': 19_909,\n",
        "        'closest lake': 'Lake Champlain',\n",
        "        },\n",
        "    'new york city': {\n",
        "        'country': 'United States of America',\n",
        "        'population': 8_468_000,\n",
        "        'closest lake': 'Lake George',\n",
        "    },\n",
        "    'madrid': {\n",
        "        'country': 'Spain',\n",
        "        'population': 3_223_000,\n",
        "        'closest lake': 'Estanque Grande del Buen Retiro',\n",
        "    }\n",
        "    }\n",
        "\n",
        "for city, info in cities.items():\n",
        "    country = info['country']\n",
        "    population = info['population']\n",
        "    lake = info['closest lake']\n",
        "\n",
        "    print(f\"\\n{city.title()} is in {country}\")\n",
        "    print(f\"It has a population of about {population}\")\n",
        "    print(f\"The nearest lake to it is {lake}\")\n",
        "\n",
        "\n",
        "\n",
        ""
      ]
    },
    {
      "cell_type": "code",
      "execution_count": null,
      "metadata": {
        "id": "j0eMqik3X-1C",
        "outputId": "9eb784ed-21be-4d08-d5b5-0b69b1bf2aec"
      },
      "outputs": [
        {
          "name": "stdout",
          "output_type": "stream",
          "text": [
            "Sorted Alphabetically:\n",
            "amy, 89\n",
            "\n",
            "ankita, 97\n",
            "\n",
            "ayush, 94\n",
            "\n",
            "bob, 97\n",
            "\n",
            "kevin, 91\n",
            "\n",
            "ned, 79\n",
            "\n",
            "timmy, 82\n",
            "\n",
            "Sorted by grade, Highest to Lowest:\n",
            "\n",
            "bob  97\n",
            "\n",
            "ankita  97\n",
            "\n",
            "ayush  94\n",
            "\n",
            "kevin  91\n",
            "\n",
            "amy  89\n",
            "\n",
            "timmy  82\n",
            "\n",
            "ned  79\n"
          ]
        }
      ],
      "source": [
        "with open('grades_dict.txt') as f:\n",
        "    lines = f.readlines()\n",
        "    data = {}\n",
        "\n",
        "\n",
        "    for line in lines:\n",
        "        key, value = line.strip().split(',')\n",
        "        data[key] = value\n",
        "\n",
        "print('Sorted Alphabetically:')\n",
        "\n",
        "for line in sorted(lines):\n",
        "    print(f\"{line}\")\n",
        "\n",
        "print(\"\\nSorted by grade, Highest to Lowest:\")\n",
        "\n",
        "for key in sorted(data, key=data.get, reverse=True):\n",
        "    print(f\"\\n{key} {data[key]}\")"
      ]
    }
  ],
  "metadata": {
    "kernelspec": {
      "display_name": "Python 3",
      "language": "python",
      "name": "python3"
    },
    "language_info": {
      "codemirror_mode": {
        "name": "ipython",
        "version": 3
      },
      "file_extension": ".py",
      "mimetype": "text/x-python",
      "name": "python",
      "nbconvert_exporter": "python",
      "pygments_lexer": "ipython3",
      "version": "3.12.2"
    },
    "colab": {
      "provenance": [],
      "include_colab_link": true
    }
  },
  "nbformat": 4,
  "nbformat_minor": 0
}