{
  "nbformat": 4,
  "nbformat_minor": 0,
  "metadata": {
    "colab": {
      "provenance": [],
      "authorship_tag": "ABX9TyM40FDnt8uX9mcZJ4CKNPxI",
      "include_colab_link": true
    },
    "kernelspec": {
      "name": "python3",
      "display_name": "Python 3"
    },
    "language_info": {
      "name": "python"
    }
  },
  "cells": [
    {
      "cell_type": "markdown",
      "metadata": {
        "id": "view-in-github",
        "colab_type": "text"
      },
      "source": [
        "<a href=\"https://colab.research.google.com/github/Koza101/CSC221_mkoza002/blob/main/Assignment3.ipynb\" target=\"_parent\"><img src=\"https://colab.research.google.com/assets/colab-badge.svg\" alt=\"Open In Colab\"/></a>"
      ]
    },
    {
      "cell_type": "code",
      "execution_count": 1,
      "metadata": {
        "colab": {
          "base_uri": "https://localhost:8080/"
        },
        "id": "tt6lqxRVohCE",
        "outputId": "d5478a62-2e3a-47c4-d7ac-4f5eef781088"
      },
      "outputs": [
        {
          "output_type": "stream",
          "name": "stdout",
          "text": [
            "Hello, Mason Kozak, would you like to learn some python today?\n"
          ]
        }
      ],
      "source": [
        "# TIY 2-1\n",
        "\n",
        "name = 'Mason Kozak'\n",
        "\n",
        "print(f'Hello, {name}, would you like to learn some python today?')\n",
        "\n"
      ]
    },
    {
      "cell_type": "code",
      "source": [
        "# TIY 2-2\n",
        "\n",
        "msg = \"I'm thinking about what we can learn...\"\n",
        "\n",
        "print(f'{msg}')\n",
        "\n",
        "msg = \"I got it, we can learn strings!\"\n",
        "\n",
        "print(f'{msg}')"
      ],
      "metadata": {
        "colab": {
          "base_uri": "https://localhost:8080/"
        },
        "id": "qF1uCz8vqK2j",
        "outputId": "9f00b4b3-5381-4f16-8c86-eb400ab8520d"
      },
      "execution_count": 4,
      "outputs": [
        {
          "output_type": "stream",
          "name": "stdout",
          "text": [
            "I'm thinking about what we can learn...\n",
            "I got it, we can learn strings!\n"
          ]
        }
      ]
    },
    {
      "cell_type": "code",
      "source": [
        "# TIY 2-3\n",
        "\n",
        "name = \"John Doe\"\n",
        "\n",
        "print(f\"Hello {name}, would you like to learn some python today?\")"
      ],
      "metadata": {
        "colab": {
          "base_uri": "https://localhost:8080/"
        },
        "id": "_BDFxcYZxeMw",
        "outputId": "34fa2d90-99f8-4615-8c7c-66f15e26124a"
      },
      "execution_count": 2,
      "outputs": [
        {
          "output_type": "stream",
          "name": "stdout",
          "text": [
            "Hello John Doe, would you like to learn some python today?\n"
          ]
        }
      ]
    },
    {
      "cell_type": "code",
      "source": [
        "# TIY 2-4\n",
        "\n",
        "name = \"john Doe\"\n",
        "\n",
        "print(name.lower())\n",
        "\n",
        "print(name.upper())\n",
        "\n",
        "print(name.title())"
      ],
      "metadata": {
        "colab": {
          "base_uri": "https://localhost:8080/"
        },
        "id": "7Vo8KU6Al-WK",
        "outputId": "74cc756b-e504-435e-9bac-5acb7b325e9c"
      },
      "execution_count": 3,
      "outputs": [
        {
          "output_type": "stream",
          "name": "stdout",
          "text": [
            "john doe\n",
            "JOHN DOE\n",
            "John Doe\n"
          ]
        }
      ]
    },
    {
      "cell_type": "code",
      "source": [
        "# TIY 2-5\n",
        "\n",
        "\n",
        "print(f\"Once said, Be creative, live a fun life, and don't be an asshole\")"
      ],
      "metadata": {
        "colab": {
          "base_uri": "https://localhost:8080/"
        },
        "id": "wvNm5mnZnbYl",
        "outputId": "c484212d-aed8-48dc-ae64-119d55926856"
      },
      "execution_count": 13,
      "outputs": [
        {
          "output_type": "stream",
          "name": "stdout",
          "text": [
            "Once said, Be creative, live a fun life, and don't be an asshole\n"
          ]
        }
      ]
    },
    {
      "cell_type": "code",
      "source": [
        "# TIY 2-6\n",
        "\n",
        "famous_person = \"Ken Block\"\n",
        "\n",
        "print(f\"{famous_person} Once said, \" '\"Be creative, live a fun life, and dont be an asshole\"')"
      ],
      "metadata": {
        "colab": {
          "base_uri": "https://localhost:8080/"
        },
        "id": "-VEecWfMr8zW",
        "outputId": "899cff30-4262-4446-f519-ec9d437d5685"
      },
      "execution_count": 12,
      "outputs": [
        {
          "output_type": "stream",
          "name": "stdout",
          "text": [
            "Ken Block Once said, \"Be creative, live a fun life, and dont be an asshole\"\n"
          ]
        }
      ]
    },
    {
      "cell_type": "code",
      "source": [
        "# TIY 2-7\n",
        "\n",
        "name = \"\\n John Doe   \\t\\t\"\n",
        "\n",
        "print(name)\n",
        "\n",
        "print(name.lstrip())\n",
        "print(name.rstrip())\n",
        "print(name.strip())"
      ],
      "metadata": {
        "colab": {
          "base_uri": "https://localhost:8080/"
        },
        "id": "IJQLPsNRwf4R",
        "outputId": "166c754a-e7e4-4f1e-a6a6-926e8fe8b677"
      },
      "execution_count": 23,
      "outputs": [
        {
          "output_type": "stream",
          "name": "stdout",
          "text": [
            "\n",
            " John Doe   \t\t\n",
            "John Doe   \t\t\n",
            "\n",
            " John Doe\n",
            "John Doe\n"
          ]
        }
      ]
    },
    {
      "cell_type": "code",
      "source": [
        "# TIY 2-8\n",
        "\n",
        "filename = 'python_notes.txt'\n",
        "\n",
        "filename.removesuffix('.txt')"
      ],
      "metadata": {
        "colab": {
          "base_uri": "https://localhost:8080/",
          "height": 35
        },
        "id": "oNGwyOScxKPx",
        "outputId": "0d991f85-8825-4b8f-b748-32d3b291bac0"
      },
      "execution_count": 25,
      "outputs": [
        {
          "output_type": "execute_result",
          "data": {
            "text/plain": [
              "'python_notes'"
            ],
            "application/vnd.google.colaboratory.intrinsic+json": {
              "type": "string"
            }
          },
          "metadata": {},
          "execution_count": 25
        }
      ]
    },
    {
      "cell_type": "code",
      "source": [
        "# TIY 2-9\n",
        "\n",
        "print(5+3)\n",
        "print(10-2)\n",
        "print(2*4)\n",
        "print(16/2)"
      ],
      "metadata": {
        "colab": {
          "base_uri": "https://localhost:8080/"
        },
        "id": "u7JKCsDNyjjD",
        "outputId": "a08e6d12-09a0-485c-a1bf-9791a4cc240e"
      },
      "execution_count": 26,
      "outputs": [
        {
          "output_type": "stream",
          "name": "stdout",
          "text": [
            "8\n",
            "8\n",
            "8\n",
            "8.0\n"
          ]
        }
      ]
    },
    {
      "cell_type": "code",
      "source": [
        "# TIY 2-10\n",
        "\n",
        "fav_num = 11\n",
        "\n",
        "print(f\"my favorite number is: {fav_num}\")"
      ],
      "metadata": {
        "colab": {
          "base_uri": "https://localhost:8080/"
        },
        "id": "aVLksCg-ztLS",
        "outputId": "fb232f80-86fb-498a-8bc7-83434bc08704"
      },
      "execution_count": 32,
      "outputs": [
        {
          "output_type": "stream",
          "name": "stdout",
          "text": [
            "my favorite number is: 11\n"
          ]
        }
      ]
    },
    {
      "cell_type": "code",
      "source": [
        "# TIY 2-11\n",
        "\n",
        "#Mason Kozak\n",
        "\n",
        "#This is my hello world program. It prints Hello World!\n",
        "\n",
        "print(\"Hello World!\")"
      ],
      "metadata": {
        "colab": {
          "base_uri": "https://localhost:8080/"
        },
        "id": "8pQjqAsZ09ms",
        "outputId": "ee70f2e3-3bff-4a2b-96ee-f4b68c23f21a"
      },
      "execution_count": 33,
      "outputs": [
        {
          "output_type": "stream",
          "name": "stdout",
          "text": [
            "Hello World!\n"
          ]
        }
      ]
    },
    {
      "cell_type": "code",
      "source": [
        "# TIY 2-12\n",
        "\n",
        "import this"
      ],
      "metadata": {
        "colab": {
          "base_uri": "https://localhost:8080/"
        },
        "id": "9t1eGFt91tiv",
        "outputId": "1860f52d-17cf-4e73-f8eb-bbf178a3530e"
      },
      "execution_count": 34,
      "outputs": [
        {
          "output_type": "stream",
          "name": "stdout",
          "text": [
            "The Zen of Python, by Tim Peters\n",
            "\n",
            "Beautiful is better than ugly.\n",
            "Explicit is better than implicit.\n",
            "Simple is better than complex.\n",
            "Complex is better than complicated.\n",
            "Flat is better than nested.\n",
            "Sparse is better than dense.\n",
            "Readability counts.\n",
            "Special cases aren't special enough to break the rules.\n",
            "Although practicality beats purity.\n",
            "Errors should never pass silently.\n",
            "Unless explicitly silenced.\n",
            "In the face of ambiguity, refuse the temptation to guess.\n",
            "There should be one-- and preferably only one --obvious way to do it.\n",
            "Although that way may not be obvious at first unless you're Dutch.\n",
            "Now is better than never.\n",
            "Although never is often better than *right* now.\n",
            "If the implementation is hard to explain, it's a bad idea.\n",
            "If the implementation is easy to explain, it may be a good idea.\n",
            "Namespaces are one honking great idea -- let's do more of those!\n"
          ]
        }
      ]
    }
  ]
}