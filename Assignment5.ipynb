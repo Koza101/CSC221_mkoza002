{
  "cells": [
    {
      "cell_type": "markdown",
      "metadata": {
        "id": "view-in-github",
        "colab_type": "text"
      },
      "source": [
        "<a href=\"https://colab.research.google.com/github/Koza101/CSC221_mkoza002/blob/main/Assignment5.ipynb\" target=\"_parent\"><img src=\"https://colab.research.google.com/assets/colab-badge.svg\" alt=\"Open In Colab\"/></a>"
      ]
    },
    {
      "cell_type": "code",
      "execution_count": null,
      "metadata": {
        "id": "O8zpBH0uBbgk",
        "outputId": "c494d78f-05ed-4d0c-87ad-aec6c7076814"
      },
      "outputs": [
        {
          "name": "stdout",
          "output_type": "stream",
          "text": [
            "I really like Hawaiian Pizza\n",
            "I really like BBQ Chicken Pizza\n",
            "I really like Buffalo Chicken Pizza\n",
            "\n",
            "\n",
            "I really really like pizza\n"
          ]
        }
      ],
      "source": [
        "# TIY 4-1\n",
        "\n",
        "pizzas = ['Hawaiian', 'BBQ Chicken', 'Buffalo Chicken']\n",
        "for pizza in pizzas:\n",
        "    print(f\"I really like {pizza} Pizza\")\n",
        "\n",
        "print('\\n\\nI really really like pizza')\n"
      ]
    },
    {
      "cell_type": "markdown",
      "metadata": {
        "id": "RD7xA4k1Bbgr"
      },
      "source": [
        "#TIY 4-2\n",
        "\n",
        "I believe TIY 4-2 is redundant as I'm basically repeating the seteps from TIY 4-1 except with animals. I believe there is value in repetition but having already completed the chapter after this I feel I have a solid grasp of the syntax and material."
      ]
    },
    {
      "cell_type": "code",
      "execution_count": null,
      "metadata": {
        "id": "dNMnmHrKBbgu",
        "outputId": "2ecf02e8-b99f-4a9e-8ef4-1becb42e7109"
      },
      "outputs": [
        {
          "name": "stdout",
          "output_type": "stream",
          "text": [
            "1\n",
            "2\n",
            "3\n",
            "4\n",
            "5\n",
            "6\n",
            "7\n",
            "8\n",
            "9\n",
            "10\n",
            "11\n",
            "12\n",
            "13\n",
            "14\n",
            "15\n",
            "16\n",
            "17\n",
            "18\n",
            "19\n",
            "20\n"
          ]
        }
      ],
      "source": [
        "#TIY 4-3\n",
        "\n",
        "for numbers in range(1, 21):\n",
        "    print(numbers)"
      ]
    },
    {
      "cell_type": "markdown",
      "metadata": {
        "id": "GLluU9-vBbgv"
      },
      "source": [
        "#TIY 4-4\n",
        "\n",
        "I wasn't going to do this, then decided I would to use the \"list()\" function. Then it crashed my VS program so I'm not doing it anymore."
      ]
    },
    {
      "cell_type": "markdown",
      "metadata": {
        "id": "DZ15_3niBbgw"
      },
      "source": [
        "#TIY 4-5\n",
        "\n",
        "Again, not doing this for the reasons given in 4-4. Working with a large dataset and then printing to the terminal is no bueno. At least that seems to be the case in a .ipynb file type."
      ]
    },
    {
      "cell_type": "code",
      "execution_count": null,
      "metadata": {
        "id": "HIgiAgsvBbgw",
        "outputId": "32a27e10-1914-4c97-c010-e8f146858e2c"
      },
      "outputs": [
        {
          "name": "stdout",
          "output_type": "stream",
          "text": [
            "1\n",
            "3\n",
            "5\n",
            "7\n",
            "9\n",
            "11\n",
            "13\n",
            "15\n",
            "17\n",
            "19\n"
          ]
        }
      ],
      "source": [
        "#TIY 4-6\n",
        "\n",
        "odd_numbers = list(range(1, 21, 2))\n",
        "for numbers in odd_numbers:\n",
        "    print(numbers)\n"
      ]
    },
    {
      "cell_type": "code",
      "execution_count": null,
      "metadata": {
        "id": "NSvyGRgIBbgx",
        "outputId": "5fb7209d-83fd-42a8-b377-923f4f410850"
      },
      "outputs": [
        {
          "name": "stdout",
          "output_type": "stream",
          "text": [
            "3\n",
            "6\n",
            "9\n",
            "12\n",
            "15\n",
            "18\n",
            "21\n",
            "24\n",
            "27\n",
            "30\n"
          ]
        }
      ],
      "source": [
        "# TIY 4-7\n",
        "\n",
        "threes = list(range(3, 31, 3))\n",
        "for numbers in threes:\n",
        "    print(numbers)"
      ]
    },
    {
      "cell_type": "code",
      "execution_count": null,
      "metadata": {
        "id": "JpTA-1FpBbgx",
        "outputId": "9bd20954-fc73-4eb1-dfdd-54b512f0c968"
      },
      "outputs": [
        {
          "name": "stdout",
          "output_type": "stream",
          "text": [
            "[1, 8, 27, 64, 125, 216, 343, 512, 729, 1000]\n"
          ]
        }
      ],
      "source": [
        "# TIY 4-8\n",
        "\n",
        "cubes = [value**3 for value in range(1, 11)]\n",
        "print(cubes)"
      ]
    },
    {
      "cell_type": "markdown",
      "metadata": {
        "id": "oQHOn5nyBbgy"
      },
      "source": [
        "#TIY 4-9\n",
        "\n",
        "This feels redundant as I already used the list comprehension method I learned in this chapter in the last TIY."
      ]
    },
    {
      "cell_type": "code",
      "execution_count": null,
      "metadata": {
        "id": "1OJRLbXeBbgy",
        "outputId": "ef2d18b8-bf20-4b1f-d5eb-f439677a2fe0"
      },
      "outputs": [
        {
          "name": "stdout",
          "output_type": "stream",
          "text": [
            "the first three items in the list are Hawaiian\n",
            "the first three items in the list are BBQ Chicken\n",
            "the first three items in the list are Buffalo Chicken\n",
            "\n",
            "\n",
            "three items from the middle of the list are Buffalo Chicken\n",
            "three items from the middle of the list are Margarita\n",
            "three items from the middle of the list are Cheese\n",
            "\n",
            "\n",
            "the last three items from the list are Margarita\n",
            "the last three items from the list are Cheese\n",
            "the last three items from the list are Pepperoni\n"
          ]
        }
      ],
      "source": [
        "# TIY 4-10\n",
        "\n",
        "pizzas = ['Hawaiian', 'BBQ Chicken', 'Buffalo Chicken', 'Margarita', 'Cheese', 'Pepperoni']\n",
        "for pizza in pizzas[:3]:\n",
        "    print(f\"the first three items in the list are {pizza}\")\n",
        "\n",
        "print('\\n')\n",
        "\n",
        "for pizza in pizzas[2:5]:\n",
        "    print(f\"three items from the middle of the list are {pizza}\")\n",
        "\n",
        "print('\\n')\n",
        "\n",
        "for pizza in pizzas[3:]:\n",
        "    print(f\"the last three items from the list are {pizza}\")\n"
      ]
    },
    {
      "cell_type": "code",
      "execution_count": null,
      "metadata": {
        "id": "GhFE-MYYBbgz",
        "outputId": "77459c5f-26bc-48cb-d1ec-2810d2436d34"
      },
      "outputs": [
        {
          "name": "stdout",
          "output_type": "stream",
          "text": [
            "My favorite pizzas are:['Hawaiian', 'BBQ Chicken', 'Buffalo Chicken', 'Margarita']\n",
            "My favorite pizzas are:['Hawaiian', 'BBQ Chicken', 'Buffalo Chicken', 'Margarita']\n",
            "My favorite pizzas are:['Hawaiian', 'BBQ Chicken', 'Buffalo Chicken', 'Margarita']\n",
            "My favorite pizzas are:['Hawaiian', 'BBQ Chicken', 'Buffalo Chicken', 'Margarita']\n",
            "My friend's favorite pizzas are:['Hawaiian', 'BBQ Chicken', 'Buffalo Chicken', 'Poutine']\n",
            "My friend's favorite pizzas are:['Hawaiian', 'BBQ Chicken', 'Buffalo Chicken', 'Poutine']\n",
            "My friend's favorite pizzas are:['Hawaiian', 'BBQ Chicken', 'Buffalo Chicken', 'Poutine']\n",
            "My friend's favorite pizzas are:['Hawaiian', 'BBQ Chicken', 'Buffalo Chicken', 'Poutine']\n"
          ]
        }
      ],
      "source": [
        "# TIY 4-11\n",
        "\n",
        "pizzas = ['Hawaiian', 'BBQ Chicken', 'Buffalo Chicken']\n",
        "friend_pizzas = pizzas[:]\n",
        "\n",
        "pizzas.append('Margarita')\n",
        "friend_pizzas.append('Poutine')\n",
        "\n",
        "for pizza in pizzas:\n",
        "    print(f\"My favorite pizzas are:{pizzas}\")\n",
        "\n",
        "for pizza in friend_pizzas:\n",
        "    print(f\"My friend's favorite pizzas are:{friend_pizzas}\")\n",
        "\n",
        "#Not sure how to get it to only print a single line of output instead of 4\n",
        "#I know why it's doing it, but I'm having trouble finding a work around\n",
        "#Just using a regular print would fix this, but it asks for a for loop to print"
      ]
    },
    {
      "cell_type": "markdown",
      "metadata": {
        "id": "udmzbUs4Bbgz"
      },
      "source": [
        "# TIY 4-12\n",
        "\n",
        "I'm going to skip this one as it's essentially what I did above just using a different dataset."
      ]
    },
    {
      "cell_type": "code",
      "execution_count": null,
      "metadata": {
        "id": "LyH_AXOZBbgz",
        "outputId": "21ad3e7b-c2d4-49a9-a6c0-16cb35465813"
      },
      "outputs": [
        {
          "name": "stdout",
          "output_type": "stream",
          "text": [
            "Stir Fried Rice\n",
            "Beef Lo Meini\n",
            "Wontons\n",
            "Short Ribs\n",
            "Ice Cream\n",
            "\n",
            "\n",
            "Orange Chicken\n",
            "General Tsao'S\n",
            "Wontons\n",
            "Short Ribs\n",
            "Ice Cream\n"
          ]
        }
      ],
      "source": [
        "# TIY 4-13\n",
        "\n",
        "foods = ('stir fried rice', 'beef lo meini', 'wontons', 'short ribs', 'ice cream')\n",
        "for food in foods:\n",
        "    print(food.title())\n",
        "\n",
        "#foods[0] = 'Orange Chicken'\n",
        "\n",
        "#Note: python did reject this change as per the instructions. Commenting it out so that the next line of code runs correctly\n",
        "#Next print statement is for output readability\n",
        "\n",
        "print('\\n')\n",
        "\n",
        "foods = ('orange chicken', \"general tsao's\", 'wontons', 'short ribs', 'Ice Cream')\n",
        "for food in foods:\n",
        "    print(food.title())"
      ]
    },
    {
      "cell_type": "markdown",
      "metadata": {
        "id": "YAqaqE05Bbg0"
      },
      "source": [
        "# TIY 4-14 & 4-15\n",
        "\n",
        "I believe my code already mostly if not completely follows PEP-8 convention. Going to skip these two."
      ]
    },
    {
      "cell_type": "code",
      "execution_count": null,
      "metadata": {
        "id": "6YPquBJRBbg0",
        "outputId": "2d21e250-cf15-4cda-bbd2-dded98b3f982"
      },
      "outputs": [
        {
          "name": "stdout",
          "output_type": "stream",
          "text": [
            "120\n",
            "3628800\n",
            "2432902008176640000\n",
            "30414093201713378043612608166064768844377641568960512000000000000\n"
          ]
        }
      ],
      "source": [
        "# BrightSpace task 2\n",
        "\n",
        "def factorial(n):\n",
        "    my_list = [num for num in range(1, n+1)]\n",
        "\n",
        "    result = 1\n",
        "\n",
        "    for number in my_list:\n",
        "        result = result*number\n",
        "\n",
        "    return result\n",
        "\n",
        "print(factorial(5))\n",
        "print(factorial(10))\n",
        "print(factorial(20))\n",
        "print(factorial(50))"
      ]
    },
    {
      "cell_type": "code",
      "execution_count": null,
      "metadata": {
        "id": "s9f20yBABbg0",
        "outputId": "b0fb694d-8911-449e-9590-0271d8c22a74"
      },
      "outputs": [
        {
          "name": "stdout",
          "output_type": "stream",
          "text": [
            "30\n",
            "907200\n",
            "46786577080320000\n",
            "26585745805693512275885146998308364374455980392448000000000000\n"
          ]
        }
      ],
      "source": [
        "# BrightSpace task 3\n",
        "\n",
        "def special_factorial(n):\n",
        "    my_list = [num for num in range(1, n+1)]\n",
        "\n",
        "    result = 1\n",
        "\n",
        "    if n >= 4:\n",
        "        my_list.remove(4)\n",
        "    if n >= 13:\n",
        "        my_list.remove(13)\n",
        "    if n >= 22:\n",
        "        my_list.remove(22)\n",
        "    for number in my_list:\n",
        "        result = result*number\n",
        "    return result\n",
        "\n",
        "print(special_factorial(5))\n",
        "print(special_factorial(10))\n",
        "print(special_factorial(20))\n",
        "print(special_factorial(50))\n"
      ]
    }
  ],
  "metadata": {
    "kernelspec": {
      "display_name": "Python 3",
      "language": "python",
      "name": "python3"
    },
    "language_info": {
      "codemirror_mode": {
        "name": "ipython",
        "version": 3
      },
      "file_extension": ".py",
      "mimetype": "text/x-python",
      "name": "python",
      "nbconvert_exporter": "python",
      "pygments_lexer": "ipython3",
      "version": "3.12.2"
    },
    "colab": {
      "provenance": [],
      "include_colab_link": true
    }
  },
  "nbformat": 4,
  "nbformat_minor": 0
}