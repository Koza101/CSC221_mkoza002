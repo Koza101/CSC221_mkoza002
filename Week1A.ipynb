{
  "nbformat": 4,
  "nbformat_minor": 0,
  "metadata": {
    "colab": {
      "provenance": [],
      "authorship_tag": "ABX9TyMxxndWV08C2KUZnJhrHv/U",
      "include_colab_link": true
    },
    "kernelspec": {
      "name": "python3",
      "display_name": "Python 3"
    },
    "language_info": {
      "name": "python"
    }
  },
  "cells": [
    {
      "cell_type": "markdown",
      "metadata": {
        "id": "view-in-github",
        "colab_type": "text"
      },
      "source": [
        "<a href=\"https://colab.research.google.com/github/Koza101/CSC221_mkoza002/blob/main/Week1A.ipynb\" target=\"_parent\"><img src=\"https://colab.research.google.com/assets/colab-badge.svg\" alt=\"Open In Colab\"/></a>"
      ]
    },
    {
      "cell_type": "code",
      "source": [],
      "metadata": {
        "id": "nGLlpm8Q5Mul"
      },
      "execution_count": null,
      "outputs": []
    },
    {
      "cell_type": "code",
      "execution_count": null,
      "metadata": {
        "id": "jeR5Po8jNz3c",
        "colab": {
          "base_uri": "https://localhost:8080/"
        },
        "outputId": "9ea1e496-eed5-42de-e3a2-9ae4088ca239"
      },
      "outputs": [
        {
          "output_type": "stream",
          "name": "stdout",
          "text": [
            "Hello World!\n",
            "wWhat is your name?\n",
            "Mason\n",
            "Hello Mason\n",
            "Welcome to Plattsburgh!\n"
          ]
        }
      ],
      "source": [
        "print(\"Hello World!\")\n",
        "\n",
        "print(\"wWhat is your name?\")\n",
        "\n",
        "name = input()\n",
        "\n",
        "\n",
        "print(\"Hello\", name)\n",
        "\n",
        "#3 Welcome to <city>, from file\n",
        "cityname = open(\"cityname.txt\", \"r\")\n",
        "\n",
        "file = cityname.readline()\n",
        "#actually read a line\n",
        "\n",
        "print(f\"Welcome to {file}!\")"
      ]
    }
  ]
}