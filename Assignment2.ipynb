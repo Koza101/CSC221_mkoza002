{
  "nbformat": 4,
  "nbformat_minor": 0,
  "metadata": {
    "colab": {
      "provenance": [],
      "authorship_tag": "ABX9TyPIT64C1ckn7IaMHqly6YnU",
      "include_colab_link": true
    },
    "kernelspec": {
      "name": "python3",
      "display_name": "Python 3"
    },
    "language_info": {
      "name": "python"
    }
  },
  "cells": [
    {
      "cell_type": "markdown",
      "metadata": {
        "id": "view-in-github",
        "colab_type": "text"
      },
      "source": [
        "<a href=\"https://colab.research.google.com/github/Koza101/CSC221_mkoza002/blob/main/Assignment2.ipynb\" target=\"_parent\"><img src=\"https://colab.research.google.com/assets/colab-badge.svg\" alt=\"Open In Colab\"/></a>"
      ]
    },
    {
      "cell_type": "code",
      "execution_count": 2,
      "metadata": {
        "colab": {
          "base_uri": "https://localhost:8080/"
        },
        "id": "xZnLc642cfWG",
        "outputId": "de8bee05-f63a-4a54-87a1-14e18c8bd7d5"
      },
      "outputs": [
        {
          "output_type": "stream",
          "name": "stdout",
          "text": [
            "test_1=37\n",
            "test_2 is [12, 14, 99]\n",
            "74\n",
            "[12, 14, 99, 12, 14, 99]\n",
            "111\n",
            "[12, 14, 99, 12, 14, 99, 12, 14, 99]\n"
          ]
        }
      ],
      "source": [
        "test_1 = 37\n",
        "test_2 = [12, 14, 99]\n",
        "\n",
        "print(f'{test_1=}')\n",
        "print('test_2 is', test_2)\n",
        "\n",
        "def doubler(x):\n",
        "    y = x * 2\n",
        "    return y\n",
        "\n",
        "print(doubler(test_1))\n",
        "print(doubler(test_2))\n",
        "\n",
        "class Wrapper:\n",
        "    def __init__(self, x):\n",
        "        self.x = x\n",
        "    def tripler(self):\n",
        "        y = self.x * 3\n",
        "        return y\n",
        "\n",
        "w1 = Wrapper(test_1)\n",
        "w2 = Wrapper(test_2)\n",
        "\n",
        "print(w1.tripler())\n",
        "print(w2.tripler())"
      ]
    },
    {
      "cell_type": "markdown",
      "source": [
        "Assignment 2, what I've learned:\n",
        "\n",
        "During this assignment I have learned that VS Code is probably the best way to execute python code locally on a\n",
        "computer. I learned doing it directly from REPL is not practical for writting and executing code. I learned that google colab\n",
        "is a free and powerful resource that I was previously unaware of. I believe it's best use case is for when you don't have access\n",
        "to very good hardware or if you need access to enterprise level equipment to execute code."
      ],
      "metadata": {
        "id": "K30QlUOZihNH"
      }
    }
  ]
}