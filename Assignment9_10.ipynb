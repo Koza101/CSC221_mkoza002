{
  "cells": [
    {
      "cell_type": "markdown",
      "metadata": {
        "id": "view-in-github",
        "colab_type": "text"
      },
      "source": [
        "<a href=\"https://colab.research.google.com/github/Koza101/CSC221_mkoza002/blob/main/Assignment9_10.ipynb\" target=\"_parent\"><img src=\"https://colab.research.google.com/assets/colab-badge.svg\" alt=\"Open In Colab\"/></a>"
      ]
    },
    {
      "cell_type": "markdown",
      "metadata": {
        "id": "GeZFnfVl5ZoO"
      },
      "source": [
        "Text as Input Function\n",
        "Asks what state the function was coded in and returns true or false."
      ]
    },
    {
      "cell_type": "code",
      "execution_count": null,
      "metadata": {
        "id": "7r6apuzh5ZoP"
      },
      "outputs": [],
      "source": [
        "def what_state(state):\n",
        "    print('What state was I coded in?')\n",
        "    state = input().lower()\n",
        "    if state == \"new york\":\n",
        "        print('correct')\n",
        "    else:\n",
        "        print('wrong')\n",
        "\n",
        ""
      ]
    },
    {
      "cell_type": "code",
      "execution_count": null,
      "metadata": {
        "id": "qF_L0z_05ZoP",
        "outputId": "215637d4-82b8-4b17-a465-bf3c7822d263"
      },
      "outputs": [
        {
          "name": "stdout",
          "output_type": "stream",
          "text": [
            "What state was I coded in?\n",
            "wrong\n"
          ]
        }
      ],
      "source": [
        "#Testing\n",
        "what_state()"
      ]
    },
    {
      "cell_type": "markdown",
      "metadata": {
        "id": "0-DMLLpO5ZoQ"
      },
      "source": [
        "At least one should take a variable number of arguments as an input.\n",
        "1\n",
        "Takes an input of any number of names and capitalizes them."
      ]
    },
    {
      "cell_type": "code",
      "execution_count": null,
      "metadata": {
        "id": "dP9LPWut5ZoQ"
      },
      "outputs": [],
      "source": [
        "def cap_names(*names):\n",
        "    for name in names:\n",
        "        name.sort()\n",
        "        print(f\"{name.title()}\")\n"
      ]
    },
    {
      "cell_type": "code",
      "execution_count": null,
      "metadata": {
        "id": "KPRZFMbF5ZoQ",
        "outputId": "8d75c98f-0083-41e1-9a98-772267b060fb"
      },
      "outputs": [
        {
          "name": "stdout",
          "output_type": "stream",
          "text": [
            "Mason\n",
            "Nick\n",
            "Gonzo\n",
            "Gavin\n"
          ]
        }
      ],
      "source": [
        "cap_names(\"mason\", \"nick\", \"gonzo\", \"gavin\")"
      ]
    },
    {
      "cell_type": "markdown",
      "metadata": {
        "id": "WgLcNYYw5ZoQ"
      },
      "source": [
        "#At least one should return multiple items#\n",
        "2\n",
        "takes the amount of runs taken at Whiteface Mtn. and returns the total vertical skiied accompanied with fun yet obscure facts about the amount of vertical traversed. (Assuming all runs takend were from the summit)"
      ]
    },
    {
      "cell_type": "code",
      "execution_count": null,
      "metadata": {
        "id": "JvdOW28f5ZoQ"
      },
      "outputs": [],
      "source": [
        "def wf_vert_skiied(runs_taken):\n",
        "    for i in range(0, runs_taken+1):\n",
        "        vertical = 3430*i\n",
        "    print(f\"You have skiied {vertical}ft of vertical\")\n",
        "    if vertical > 29032:\n",
        "        print(\"That's more vertical than the height of Mount Everest in the Himalayas!!! Take a Break!\")\n",
        "    elif vertical > 19350:\n",
        "        print(\"That's more vertical than the height of Mount Kilimanjaro in Tanzania!\")\n",
        "    elif vertical > 12400:\n",
        "        print(\"That's more vertical than the height of Mount Fuji in Japan!\")\n",
        "    elif vertical > 10010:\n",
        "        print(\"That's more vertical than the height of Mount Merrit in Montana!\")\n",
        "    elif vertical > 5444:\n",
        "        print(\"That's more vertical than the height of 2 Burj Khalifas!\")\n",
        "    elif vertical > 2908:\n",
        "        print(\"That is more vertical than the height of 2 Empire State Buildings.\")\n",
        "    elif vertical < 50:\n",
        "        print(\"If you call that skiing, get off the Mountain!\")\n",
        ""
      ]
    },
    {
      "cell_type": "code",
      "execution_count": null,
      "metadata": {
        "id": "zj7X6YAh5ZoQ",
        "outputId": "367c5131-5e05-4593-8172-eb6fe3849846"
      },
      "outputs": [
        {
          "name": "stdout",
          "output_type": "stream",
          "text": [
            "You have skiied 17150ft of vertical\n",
            "That's more vertical than the height of Mount Fuji in Japan!\n",
            "You have skiied 6860ft of vertical\n",
            "That's more vertical than the height of 2 Burj Khalifas!\n",
            "You have skiied 0ft of vertical\n",
            "If you call that skiing, get off the Mountain!\n",
            "You have skiied 3430ft of vertical\n",
            "That is more vertical than the height of 2 Empire State Buildings.\n",
            "You have skiied 34300ft of vertical\n",
            "That's more vertical than the height of Mount Everest in the Himalayas!!! Take a Break!\n"
          ]
        }
      ],
      "source": [
        "wf_vert_skiied(5)\n",
        "wf_vert_skiied(2)\n",
        "wf_vert_skiied(0)\n",
        "wf_vert_skiied(1)\n",
        "wf_vert_skiied(10)"
      ]
    },
    {
      "cell_type": "markdown",
      "metadata": {
        "id": "2fb2M2l65ZoR"
      },
      "source": [
        "#At least one should use sorting#\n",
        "3"
      ]
    },
    {
      "cell_type": "code",
      "execution_count": null,
      "metadata": {
        "id": "zBC8492V5ZoR"
      },
      "outputs": [],
      "source": []
    },
    {
      "cell_type": "code",
      "execution_count": null,
      "metadata": {
        "id": "u77wD60E5ZoR"
      },
      "outputs": [],
      "source": []
    },
    {
      "cell_type": "markdown",
      "metadata": {
        "id": "YAzYUoGN5ZoR"
      },
      "source": [
        "#At least one should use a dictionary#\n",
        "4"
      ]
    },
    {
      "cell_type": "code",
      "execution_count": null,
      "metadata": {
        "id": "6bxUMfYY5ZoR"
      },
      "outputs": [],
      "source": [
        "\n",
        "def polska_translator(word):\n",
        "    polish_english = {\n",
        "        \"hello\": \"witam\",\n",
        "        \"good\": \"dobry\",\n",
        "        \"please\": \"prosze\",\n",
        "        \"thank you\": \"dziekuje\",\n",
        "        \"yes\": \"tak\",\n",
        "        \"no\": \"nie\",\n",
        "        \"good morning\": \"dzien dobry\",\n",
        "        \"good night\": \"dobranoc\"\n",
        "    }\n",
        "\n",
        "    return polish_english.get(word.lower(), \"No Translation Available\")\n",
        "\n"
      ]
    },
    {
      "cell_type": "code",
      "execution_count": null,
      "metadata": {
        "id": "wEu5PHYh5ZoS",
        "outputId": "4e445de7-af4b-4ada-ed83-ca0415410308"
      },
      "outputs": [
        {
          "name": "stdout",
          "output_type": "stream",
          "text": [
            "witam\n",
            "dzien dobry\n",
            "No Translation available\n",
            "prosze\n",
            "tak\n",
            "dzien dobry\n",
            "dobranoc\n"
          ]
        }
      ],
      "source": [
        "print(polska_translator(\"hello\"))\n",
        "print(polska_translator(\"good morning\"))\n",
        "print(polska_translator(\"happy\"))\n",
        "print(polska_translator(\"please\"))\n",
        "print(polska_translator(\"yes\"))\n",
        "print(polska_translator(\"GOOD MORNING\"))\n",
        "print(polska_translator(\"good NIGHT\"))"
      ]
    },
    {
      "cell_type": "markdown",
      "metadata": {
        "id": "xLvghkGU5ZoS"
      },
      "source": [
        "#At least one should solve a puzzle by guessing and checking.\n",
        "5\n",
        "Finding square root of perfect squares using guess and check"
      ]
    },
    {
      "cell_type": "code",
      "execution_count": null,
      "metadata": {
        "id": "ImoLhaQp5ZoS"
      },
      "outputs": [],
      "source": [
        "def find_square():\n",
        "    x = int(input('Enter a perfect square:'))\n",
        "    guess = 0\n",
        "    while guess**2 < x:\n",
        "        guess += 1\n",
        "    print('square root of ' + str(x) + ' is ' + str(guess))\n"
      ]
    },
    {
      "cell_type": "code",
      "execution_count": null,
      "metadata": {
        "id": "tG9n6n3P5ZoS",
        "outputId": "9d2136a6-4050-4326-9d05-09e401ed9893"
      },
      "outputs": [
        {
          "name": "stdout",
          "output_type": "stream",
          "text": [
            "square root of 32 is 6\n"
          ]
        }
      ],
      "source": [
        "find_square()"
      ]
    },
    {
      "cell_type": "markdown",
      "metadata": {
        "id": "UkYudqPB5ZoS"
      },
      "source": [
        "#At least one should perform some tricky mathematical computation#\n",
        "6\n",
        "solving quadratic equations (Now with error handling!)"
      ]
    },
    {
      "cell_type": "code",
      "execution_count": null,
      "metadata": {
        "id": "Z6V36mSo5ZoS"
      },
      "outputs": [],
      "source": [
        "def quadratic(a=0, b=0, c=0):\n",
        "    if a == 0:\n",
        "        print(\"Please Check Input\")\n",
        "    else:\n",
        "        x = (-b + (b**2-4*a*c)**(1/2))/(2*a)\n",
        "        x1 = (-b - (b**2-4*a*c)**(1/2))/(2*a)\n",
        "        print(f\"X for the quadratic equation is:\\n {x}\\n{x1}\")\n"
      ]
    },
    {
      "cell_type": "code",
      "execution_count": null,
      "metadata": {
        "id": "-5nt3Wyo5ZoS",
        "outputId": "cadff3e4-e5d0-4a35-c156-f3f6792f89ea"
      },
      "outputs": [
        {
          "name": "stdout",
          "output_type": "stream",
          "text": [
            "X for the quadratic equation is:\n",
            " -1.0\n",
            "-1.0\n",
            "X for the quadratic equation is:\n",
            " -4.0\n",
            "-6.0\n",
            "Please Check Input\n",
            "X for the quadratic equation is:\n",
            " (1.3415333537390075e-16+2.1908902300206643j)\n",
            "(-1.3415333537390075e-16-2.1908902300206643j)\n"
          ]
        }
      ],
      "source": [
        "quadratic(1, 2, 1)\n",
        "quadratic(1, 10, 24)\n",
        "quadratic(0, 10, 24)\n",
        "quadratic(5, 0, 24)\n"
      ]
    },
    {
      "cell_type": "markdown",
      "metadata": {
        "id": "ZVeLxyED5ZoS"
      },
      "source": [
        "Make 3 of your own, be creative\n",
        "input the number of cylinders and total displacement of an engine and get the displacement per cylinder."
      ]
    },
    {
      "cell_type": "code",
      "execution_count": null,
      "metadata": {
        "id": "fnROj59d5ZoS"
      },
      "outputs": [],
      "source": [
        "def displacement(cylinders, disp):\n",
        "    dpc = disp/cylinders\n",
        "    print(f\"This engine has {dpc}cc's of displacement per cylinder\")\n",
        ""
      ]
    },
    {
      "cell_type": "code",
      "execution_count": null,
      "metadata": {
        "id": "jmfh0uab5ZoS",
        "outputId": "1ab08092-f2ec-47bc-a516-62b46ef0fb44"
      },
      "outputs": [
        {
          "name": "stdout",
          "output_type": "stream",
          "text": [
            "This engine has 187.5cc's of displacement per cylinder\n",
            "This engine has 819.3333333333334cc's of displacement per cylinder\n",
            "This engine has 600.0cc's of displacement per cylinder\n",
            "This engine has 50000.0cc's of displacement per cylinder\n",
            "This engine has 50000.0cc's of displacement per cylinder\n"
          ]
        }
      ],
      "source": [
        "displacement(4, 750)\n",
        "displacement(3, 2458)\n",
        "displacement(2, 1200)\n",
        "displacement(5, 250000)"
      ]
    }
  ],
  "metadata": {
    "kernelspec": {
      "display_name": "Python 3",
      "language": "python",
      "name": "python3"
    },
    "language_info": {
      "codemirror_mode": {
        "name": "ipython",
        "version": 3
      },
      "file_extension": ".py",
      "mimetype": "text/x-python",
      "name": "python",
      "nbconvert_exporter": "python",
      "pygments_lexer": "ipython3",
      "version": "3.12.2"
    },
    "colab": {
      "provenance": [],
      "include_colab_link": true
    }
  },
  "nbformat": 4,
  "nbformat_minor": 0
}